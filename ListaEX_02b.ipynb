{
 "metadata": {
  "name": "",
  "signature": "sha256:589fa47a76eabe58d26f64388c0d19c08a53e9429fc0179c40a1c1176175f067"
 },
 "nbformat": 3,
 "nbformat_minor": 0,
 "worksheets": [
  {
   "cells": [
    {
     "cell_type": "markdown",
     "metadata": {},
     "source": [
      "**Exerc\u00edcio 01:** Fa\u00e7a uma fun\u00e7\u00e3o que recebe dois par\u00e2metros, $x$ e $y$ e retorna `True` se $x$ for divis\u00edvel por $y$ ou `False` caso contr\u00e1rio."
     ]
    },
    {
     "cell_type": "code",
     "collapsed": false,
     "input": [
      "def divis(x,y):\n",
      "    if (x%y==0):\n",
      "        return True\n",
      "    else:\n",
      "        return False\n",
      "    \n",
      "print divis (10,2)\n",
      "print divis (5,3)\n"
     ],
     "language": "python",
     "metadata": {},
     "outputs": [
      {
       "output_type": "stream",
       "stream": "stdout",
       "text": [
        "True\n",
        "False\n"
       ]
      }
     ],
     "prompt_number": 10
    },
    {
     "cell_type": "markdown",
     "metadata": {},
     "source": [
      "**Exerc\u00edcio 02:** Fa\u00e7a uma fun\u00e7\u00e3o que recebe um par\u00e2metro $x$ e verifica se ele \u00e9 par ou \u00edmpar, se ele for \u00edmpar retorna `True` caso tamb\u00e9m seja divis\u00edvel por $3$, retorne `False` caso contr\u00e1rio."
     ]
    },
    {
     "cell_type": "code",
     "collapsed": false,
     "input": [
      "def verif(x):\n",
      "    if (x%2==0) or (x%3==0):\n",
      "        return True\n",
      "    else:\n",
      "        return False\n",
      "\n",
      "print verif (2)\n",
      "print verif (3)\n",
      "print verif (7)"
     ],
     "language": "python",
     "metadata": {},
     "outputs": [
      {
       "output_type": "stream",
       "stream": "stdout",
       "text": [
        "True\n",
        "True\n",
        "False\n"
       ]
      }
     ],
     "prompt_number": 20
    },
    {
     "cell_type": "markdown",
     "metadata": {},
     "source": [
      "**Exerc\u00edcio 03:** Crie uma fun\u00e7\u00e3o que receba como par\u00e2metro a idade $x$ de uma pessoa e retorne o pre\u00e7o do ingresso de cinema.\n",
      "\n",
      "O ingresso para maiores de $10$ anos custa R\\$ 20,00, para menores de $10$ e maiores de $3$ custa \"apenas\" metade. Para menores de $3$ o cinema cobra uma taxa simb\u00f3lica de R\\$ 0,50.\n",
      "\n",
      "Utilizando as fun\u00e7\u00f5es `map` e `sum` calcule o valor total do ingresso para um grupo de pessoas dada uma lista de idades."
     ]
    },
    {
     "cell_type": "code",
     "collapsed": false,
     "input": [
      "def ingresso (x):\n",
      "    if (3<=x<=10):\n",
      "        return 10.00\n",
      "    if (x>10):\n",
      "        return 20.00\n",
      "    if (x<3):\n",
      "        return 0.50\n",
      "    \n",
      "lista = [15,40,6,2,12,38]\n",
      "\n",
      "total = map(ingresso,lista)\n",
      "\n",
      "print sum (total)"
     ],
     "language": "python",
     "metadata": {},
     "outputs": [
      {
       "output_type": "stream",
       "stream": "stdout",
       "text": [
        "90.5\n"
       ]
      }
     ],
     "prompt_number": 27
    },
    {
     "cell_type": "markdown",
     "metadata": {},
     "source": [
      "**Exerc\u00edcio 04:** Defina uma fun\u00e7\u00e3o que receba um valor $x$ como entrada e verifique se ele cont\u00e9m $2$ d\u00edgitos. Em caso afirmativo, retorne a soma desses d\u00edgitos. Caso contr\u00e1rio, retorne `False`."
     ]
    },
    {
     "cell_type": "code",
     "collapsed": false,
     "input": [
      "def digit(x):\n",
      "    a=str(x)\n",
      "    e=int(a[0])\n",
      "    f=int(a[1])\n",
      "    if len(a)==2:\n",
      "        return e+f\n",
      "    else:\n",
      "        return False\n",
      "    \n",
      "print digit(23)\n"
     ],
     "language": "python",
     "metadata": {},
     "outputs": [
      {
       "output_type": "stream",
       "stream": "stdout",
       "text": [
        "5\n"
       ]
      }
     ],
     "prompt_number": 42
    },
    {
     "cell_type": "markdown",
     "metadata": {},
     "source": [
      "**Exerc\u00edcio 05:** Fa\u00e7a uma fun\u00e7\u00e3o que receba uma vari\u00e1vel $x$ de qualquer tipo. Retorne uma string que \u00e9 a tradu\u00e7\u00e3o do tipo dessa vari\u00e1vel para o portugu\u00eas."
     ]
    },
    {
     "cell_type": "code",
     "collapsed": false,
     "input": [
      "def translate (x):\n",
      "    t1 = x\n",
      "    type (t1)\n",
      "    if type (t1)==int:\n",
      "        return 'Inteiro'\n",
      "    elif type (t1)==float:\n",
      "        return 'Reais'\n",
      "    elif type (t1)==str:\n",
      "        return 'Palavra'\n",
      "\n",
      "print translate (1.0)\n",
      "print translate (1)\n",
      "print translate ('mimimimi')"
     ],
     "language": "python",
     "metadata": {},
     "outputs": [
      {
       "output_type": "stream",
       "stream": "stdout",
       "text": [
        "Reais\n",
        "Inteiro\n",
        "Palavra\n"
       ]
      }
     ],
     "prompt_number": 10
    },
    {
     "cell_type": "markdown",
     "metadata": {},
     "source": [
      "**Exerc\u00edcio 06:** Escreva um programa que receba um n\u00famero de $1$ at\u00e9 $13$ e retorne uma string com o nome correspondente dessa carta em um baralho e quantos pontos ela vale no jogo $21$ (blackjack). Para o caso do \u00c1s, o valor ser\u00e1 uma *tupla* (1,11)."
     ]
    },
    {
     "cell_type": "code",
     "collapsed": false,
     "input": [
      "def baralho(carta):\n",
      "    if carta==1:\n",
      "        return 'Um',1\n",
      "    elif carta==2:\n",
      "        return 'Dois',2\n",
      "    elif carta==3:\n",
      "        return 'Tres',3\n",
      "    elif carta==4:\n",
      "        return 'Quatro',4\n",
      "    elif carta==5:\n",
      "        return 'Cinco',5\n",
      "    elif carta==6:\n",
      "        return=='Seis',6\n",
      "    elif carta==7:\n",
      "        return \"sete\",7\n",
      "    elif carta==8:\n",
      "        return \"Oito\",8\n",
      "    elif carta==9:\n",
      "        return \"Nove\",9\n",
      "\n",
      "print baralho (1)"
     ],
     "language": "python",
     "metadata": {},
     "outputs": [
      {
       "output_type": "stream",
       "stream": "stdout",
       "text": [
        "('Um', 1)\n"
       ]
      }
     ],
     "prompt_number": 56
    },
    {
     "cell_type": "markdown",
     "metadata": {},
     "source": [
      "**Exerc\u00edcio 07:** Fa\u00e7a uma fun\u00e7\u00e3o que receba duas listas de pontos $p1$ e $p2$ como entrada e retorne a inclina\u00e7\u00e3o da reta dada por:\n",
      "\n",
      "$$\n",
      "m = \\frac{y_2 - y_1}{x_2 - x_1}\n",
      "$$"
     ]
    },
    {
     "cell_type": "code",
     "collapsed": false,
     "input": [
      "p1(x1,y1)=[5,6]\n",
      "p2(x2,y2)=[8,9]\n",
      "\n",
      "def Inclinacao (x1,y1,x2,y2):\n",
      "    m == ((y2-y1)/(x2-x1))\n",
      "    return m\n",
      "\n",
      "print Inclinacao (lista)"
     ],
     "language": "python",
     "metadata": {},
     "outputs": [
      {
       "ename": "SyntaxError",
       "evalue": "can't assign to function call (<ipython-input-11-ce2cd2c7b078>, line 1)",
       "output_type": "pyerr",
       "traceback": [
        "\u001b[1;36m  File \u001b[1;32m\"<ipython-input-11-ce2cd2c7b078>\"\u001b[1;36m, line \u001b[1;32m1\u001b[0m\n\u001b[1;33m    p1(x1,y1)=[5,6]\u001b[0m\n\u001b[1;31mSyntaxError\u001b[0m\u001b[1;31m:\u001b[0m can't assign to function call\n"
       ]
      }
     ],
     "prompt_number": 11
    },
    {
     "cell_type": "markdown",
     "metadata": {},
     "source": [
      "**Exerc\u00edcio 08:** Fa\u00e7a uma fun\u00e7\u00e3o com tr\u00eas vari\u00e1veis: `dia`, `mes`, `ano` que retorne a data do dia seguinte."
     ]
    },
    {
     "cell_type": "code",
     "collapsed": false,
     "input": [
      "def diaseguinte(dia, mes, ano):\n",
      "    d=dia+1\n",
      "    if mes%2==1 and d>31 and mes!=2:\n",
      "        return 1\n",
      "    elif mes%2==0 and d>30 and mes!=2:\n",
      "        return 1\n",
      "    elif ano%4==1 and mes==2 and d==29:\n",
      "        return 1\n",
      "    elif ano%4==0 and mes==2 and d==30:\n",
      "        return 1\n",
      "    else:\n",
      "        return d\n",
      "    \n",
      "print diaseguinte(1,5,2005)\n",
      "print diaseguinte(28,2,2005)\n",
      "print diaseguinte(29,2,2004)\n",
      "print diaseguinte(28,2,2009)\n",
      "print diaseguinte(12,2,2005)\n",
      "print diaseguinte(5,2,2010)\n",
      "print diaseguinte(31,3,2014)\n"
     ],
     "language": "python",
     "metadata": {},
     "outputs": [
      {
       "output_type": "stream",
       "stream": "stdout",
       "text": [
        "2\n",
        "1\n",
        "1\n",
        "1\n",
        "13\n",
        "6\n",
        "1\n"
       ]
      }
     ],
     "prompt_number": 19
    },
    {
     "cell_type": "markdown",
     "metadata": {},
     "source": [
      "**Exerc\u00edcio 09:** Fa\u00e7a uma fun\u00e7\u00e3o que receba como par\u00e2metros as notas das aulas de teoria e de laborat\u00f3rio e retorne o conceito de acordo com a regras da disciplina."
     ]
    },
    {
     "cell_type": "code",
     "collapsed": false,
     "input": [
      "def nota(aula,teoria):\n",
      "    if "
     ],
     "language": "python",
     "metadata": {},
     "outputs": [],
     "prompt_number": 0
    },
    {
     "cell_type": "markdown",
     "metadata": {},
     "source": [
      "**Exerc\u00edcio 10:** Fa\u00e7a uma fun\u00e7\u00e3o que receba uma string `numero` que representa um n\u00famero qualquer escrito em ingl\u00eas. Essa fun\u00e7\u00e3o vai retornar uma string com o n\u00famero de letras que o nome do n\u00famero tem, descontando o espa\u00e7o. Ex.:\n",
      "\n",
      "```python\n",
      "Extenso('one hundred') # retorna 'ten'\n",
      "```\n",
      "\n",
      "Verifique se existe algum n\u00famero em que a entrada e a sa\u00edda da fun\u00e7\u00e3o sejam as mesmas.\n",
      "\n",
      "DICA: pesquise como utilizar a fun\u00e7\u00e3o `replace` para strings em Python"
     ]
    },
    {
     "cell_type": "code",
     "collapsed": false,
     "input": [],
     "language": "python",
     "metadata": {},
     "outputs": [],
     "prompt_number": 0
    },
    {
     "cell_type": "markdown",
     "metadata": {},
     "source": [
      "**Exerc\u00edcio 11:** Como vimos na primeira aula, uma lista em Python pode contar vari\u00e1veis de qualquer tipo, inclusive outra lista! Podemos representar o tabuleiro de um Jogo da Velha da seguinte maneira:\n",
      "\n",
      "```python\n",
      "Velha = [ ['X', 'O', 'X'], ['O','O','X'], ['X', 'X','O'] ]\n",
      "```\n",
      "\n",
      "Podemos acessar qualquer posi\u00e7\u00e3o do tabuleiro utilizando dois \u00edndices. Ex.:\n",
      "```python\n",
      "Velha[0][1] # primeira linha e segunda coluna\n",
      "```\n",
      "\n",
      "Fa\u00e7a uma fun\u00e7\u00e3o que receba um tabuleiro nesse formato apresentado e verifique se o 'X' ou o 'O' venceu ou se deu velha. Utilize um `if` ou `elif` para testar cada condi\u00e7\u00e3o em separado."
     ]
    },
    {
     "cell_type": "code",
     "collapsed": false,
     "input": [],
     "language": "python",
     "metadata": {},
     "outputs": [],
     "prompt_number": 0
    },
    {
     "cell_type": "markdown",
     "metadata": {},
     "source": [
      "**Exerc\u00edcio 12:** Reescreva a fun\u00e7\u00e3o anterior para utilizar apenas um `if`, um `elif` e um `else`. Mas para isso, armazene o resultado de cada condi\u00e7\u00e3o em uma vari\u00e1vel. Ex.:\n",
      "\n",
      "```python\n",
      "linha0X = Velha[0][0] == 'X' and Velha[0][1] == 'X' and Velha[0][2] == 'X'\n",
      "```"
     ]
    },
    {
     "cell_type": "code",
     "collapsed": false,
     "input": [],
     "language": "python",
     "metadata": {},
     "outputs": []
    }
   ],
   "metadata": {}
  }
 ]
}